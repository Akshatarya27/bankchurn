{
 "cells": [
  {
   "cell_type": "markdown",
   "id": "610b4ee2",
   "metadata": {
    "papermill": {
     "duration": 0.009671,
     "end_time": "2024-12-27T15:02:47.387510",
     "exception": false,
     "start_time": "2024-12-27T15:02:47.377839",
     "status": "completed"
    },
    "tags": []
   },
   "source": [
    "# Importing  Libraries #"
   ]
  },
  {
   "cell_type": "code",
   "execution_count": 2,
   "id": "f0980816",
   "metadata": {
    "_cell_guid": "b1076dfc-b9ad-4769-8c92-a6c4dae69d19",
    "_uuid": "8f2839f25d086af736a60e9eeb907d3b93b6e0e5",
    "papermill": {
     "duration": 2.893961,
     "end_time": "2024-12-27T15:02:50.290991",
     "exception": false,
     "start_time": "2024-12-27T15:02:47.397030",
     "status": "completed"
    },
    "tags": []
   },
   "outputs": [],
   "source": [
    "import numpy as np\n",
    "import pandas as pd\n",
    "import matplotlib.pyplot as plt\n",
    "import seaborn as sns\n",
    "from sklearn.preprocessing import LabelEncoder,StandardScaler\n",
    "from sklearn.metrics import accuracy_score, precision_score, recall_score, confusion_matrix, roc_auc_score\n",
    "from sklearn.model_selection import train_test_split\n",
    "from sklearn.linear_model import LogisticRegression\n",
    "from sklearn.tree import DecisionTreeClassifier\n",
    "from sklearn.ensemble import RandomForestClassifier\n",
    "import pickle"
   ]
  },
  {
   "cell_type": "markdown",
   "id": "974c4b31",
   "metadata": {
    "papermill": {
     "duration": 0.007798,
     "end_time": "2024-12-27T15:02:50.307445",
     "exception": false,
     "start_time": "2024-12-27T15:02:50.299647",
     "status": "completed"
    },
    "tags": []
   },
   "source": [
    "# Data Exploration #"
   ]
  },
  {
   "cell_type": "code",
   "execution_count": 4,
   "id": "45e568d1",
   "metadata": {
    "papermill": {
     "duration": 0.080928,
     "end_time": "2024-12-27T15:02:50.396658",
     "exception": false,
     "start_time": "2024-12-27T15:02:50.315730",
     "status": "completed"
    },
    "tags": []
   },
   "outputs": [
    {
     "data": {
      "text/html": [
       "<div>\n",
       "<style scoped>\n",
       "    .dataframe tbody tr th:only-of-type {\n",
       "        vertical-align: middle;\n",
       "    }\n",
       "\n",
       "    .dataframe tbody tr th {\n",
       "        vertical-align: top;\n",
       "    }\n",
       "\n",
       "    .dataframe thead th {\n",
       "        text-align: right;\n",
       "    }\n",
       "</style>\n",
       "<table border=\"1\" class=\"dataframe\">\n",
       "  <thead>\n",
       "    <tr style=\"text-align: right;\">\n",
       "      <th></th>\n",
       "      <th>customer_id</th>\n",
       "      <th>credit_score</th>\n",
       "      <th>country</th>\n",
       "      <th>gender</th>\n",
       "      <th>age</th>\n",
       "      <th>tenure</th>\n",
       "      <th>balance</th>\n",
       "      <th>products_number</th>\n",
       "      <th>credit_card</th>\n",
       "      <th>active_member</th>\n",
       "      <th>estimated_salary</th>\n",
       "      <th>churn</th>\n",
       "    </tr>\n",
       "  </thead>\n",
       "  <tbody>\n",
       "    <tr>\n",
       "      <th>0</th>\n",
       "      <td>15634602</td>\n",
       "      <td>619</td>\n",
       "      <td>France</td>\n",
       "      <td>Female</td>\n",
       "      <td>42</td>\n",
       "      <td>2</td>\n",
       "      <td>0.00</td>\n",
       "      <td>1</td>\n",
       "      <td>1</td>\n",
       "      <td>1</td>\n",
       "      <td>101348.88</td>\n",
       "      <td>1</td>\n",
       "    </tr>\n",
       "    <tr>\n",
       "      <th>1</th>\n",
       "      <td>15647311</td>\n",
       "      <td>608</td>\n",
       "      <td>Spain</td>\n",
       "      <td>Female</td>\n",
       "      <td>41</td>\n",
       "      <td>1</td>\n",
       "      <td>83807.86</td>\n",
       "      <td>1</td>\n",
       "      <td>0</td>\n",
       "      <td>1</td>\n",
       "      <td>112542.58</td>\n",
       "      <td>0</td>\n",
       "    </tr>\n",
       "    <tr>\n",
       "      <th>2</th>\n",
       "      <td>15619304</td>\n",
       "      <td>502</td>\n",
       "      <td>France</td>\n",
       "      <td>Female</td>\n",
       "      <td>42</td>\n",
       "      <td>8</td>\n",
       "      <td>159660.80</td>\n",
       "      <td>3</td>\n",
       "      <td>1</td>\n",
       "      <td>0</td>\n",
       "      <td>113931.57</td>\n",
       "      <td>1</td>\n",
       "    </tr>\n",
       "    <tr>\n",
       "      <th>3</th>\n",
       "      <td>15701354</td>\n",
       "      <td>699</td>\n",
       "      <td>France</td>\n",
       "      <td>Female</td>\n",
       "      <td>39</td>\n",
       "      <td>1</td>\n",
       "      <td>0.00</td>\n",
       "      <td>2</td>\n",
       "      <td>0</td>\n",
       "      <td>0</td>\n",
       "      <td>93826.63</td>\n",
       "      <td>0</td>\n",
       "    </tr>\n",
       "    <tr>\n",
       "      <th>4</th>\n",
       "      <td>15737888</td>\n",
       "      <td>850</td>\n",
       "      <td>Spain</td>\n",
       "      <td>Female</td>\n",
       "      <td>43</td>\n",
       "      <td>2</td>\n",
       "      <td>125510.82</td>\n",
       "      <td>1</td>\n",
       "      <td>1</td>\n",
       "      <td>1</td>\n",
       "      <td>79084.10</td>\n",
       "      <td>0</td>\n",
       "    </tr>\n",
       "  </tbody>\n",
       "</table>\n",
       "</div>"
      ],
      "text/plain": [
       "   customer_id  credit_score country  gender  age  tenure    balance  \\\n",
       "0     15634602           619  France  Female   42       2       0.00   \n",
       "1     15647311           608   Spain  Female   41       1   83807.86   \n",
       "2     15619304           502  France  Female   42       8  159660.80   \n",
       "3     15701354           699  France  Female   39       1       0.00   \n",
       "4     15737888           850   Spain  Female   43       2  125510.82   \n",
       "\n",
       "   products_number  credit_card  active_member  estimated_salary  churn  \n",
       "0                1            1              1         101348.88      1  \n",
       "1                1            0              1         112542.58      0  \n",
       "2                3            1              0         113931.57      1  \n",
       "3                2            0              0          93826.63      0  \n",
       "4                1            1              1          79084.10      0  "
      ]
     },
     "execution_count": 4,
     "metadata": {},
     "output_type": "execute_result"
    }
   ],
   "source": [
    "df=pd.read_csv('Bank Customer Churn Prediction.csv')\n",
    "df.head()"
   ]
  },
  {
   "cell_type": "code",
   "execution_count": 5,
   "id": "cc6209e9",
   "metadata": {
    "papermill": {
     "duration": 0.042715,
     "end_time": "2024-12-27T15:02:50.447839",
     "exception": false,
     "start_time": "2024-12-27T15:02:50.405124",
     "status": "completed"
    },
    "tags": []
   },
   "outputs": [
    {
     "name": "stdout",
     "output_type": "stream",
     "text": [
      "<class 'pandas.core.frame.DataFrame'>\n",
      "RangeIndex: 10000 entries, 0 to 9999\n",
      "Data columns (total 12 columns):\n",
      " #   Column            Non-Null Count  Dtype  \n",
      "---  ------            --------------  -----  \n",
      " 0   customer_id       10000 non-null  int64  \n",
      " 1   credit_score      10000 non-null  int64  \n",
      " 2   country           10000 non-null  object \n",
      " 3   gender            10000 non-null  object \n",
      " 4   age               10000 non-null  int64  \n",
      " 5   tenure            10000 non-null  int64  \n",
      " 6   balance           10000 non-null  float64\n",
      " 7   products_number   10000 non-null  int64  \n",
      " 8   credit_card       10000 non-null  int64  \n",
      " 9   active_member     10000 non-null  int64  \n",
      " 10  estimated_salary  10000 non-null  float64\n",
      " 11  churn             10000 non-null  int64  \n",
      "dtypes: float64(2), int64(8), object(2)\n",
      "memory usage: 937.6+ KB\n"
     ]
    }
   ],
   "source": [
    "df.info()"
   ]
  },
  {
   "cell_type": "code",
   "execution_count": 6,
   "id": "fbefabbc",
   "metadata": {
    "papermill": {
     "duration": 0.05273,
     "end_time": "2024-12-27T15:02:50.509345",
     "exception": false,
     "start_time": "2024-12-27T15:02:50.456615",
     "status": "completed"
    },
    "tags": []
   },
   "outputs": [
    {
     "data": {
      "text/html": [
       "<div>\n",
       "<style scoped>\n",
       "    .dataframe tbody tr th:only-of-type {\n",
       "        vertical-align: middle;\n",
       "    }\n",
       "\n",
       "    .dataframe tbody tr th {\n",
       "        vertical-align: top;\n",
       "    }\n",
       "\n",
       "    .dataframe thead th {\n",
       "        text-align: right;\n",
       "    }\n",
       "</style>\n",
       "<table border=\"1\" class=\"dataframe\">\n",
       "  <thead>\n",
       "    <tr style=\"text-align: right;\">\n",
       "      <th></th>\n",
       "      <th>customer_id</th>\n",
       "      <th>credit_score</th>\n",
       "      <th>age</th>\n",
       "      <th>tenure</th>\n",
       "      <th>balance</th>\n",
       "      <th>products_number</th>\n",
       "      <th>credit_card</th>\n",
       "      <th>active_member</th>\n",
       "      <th>estimated_salary</th>\n",
       "      <th>churn</th>\n",
       "    </tr>\n",
       "  </thead>\n",
       "  <tbody>\n",
       "    <tr>\n",
       "      <th>count</th>\n",
       "      <td>1.000000e+04</td>\n",
       "      <td>10000.000000</td>\n",
       "      <td>10000.000000</td>\n",
       "      <td>10000.000000</td>\n",
       "      <td>10000.000000</td>\n",
       "      <td>10000.000000</td>\n",
       "      <td>10000.00000</td>\n",
       "      <td>10000.000000</td>\n",
       "      <td>10000.000000</td>\n",
       "      <td>10000.000000</td>\n",
       "    </tr>\n",
       "    <tr>\n",
       "      <th>mean</th>\n",
       "      <td>1.569094e+07</td>\n",
       "      <td>650.528800</td>\n",
       "      <td>38.921800</td>\n",
       "      <td>5.012800</td>\n",
       "      <td>76485.889288</td>\n",
       "      <td>1.530200</td>\n",
       "      <td>0.70550</td>\n",
       "      <td>0.515100</td>\n",
       "      <td>100090.239881</td>\n",
       "      <td>0.203700</td>\n",
       "    </tr>\n",
       "    <tr>\n",
       "      <th>std</th>\n",
       "      <td>7.193619e+04</td>\n",
       "      <td>96.653299</td>\n",
       "      <td>10.487806</td>\n",
       "      <td>2.892174</td>\n",
       "      <td>62397.405202</td>\n",
       "      <td>0.581654</td>\n",
       "      <td>0.45584</td>\n",
       "      <td>0.499797</td>\n",
       "      <td>57510.492818</td>\n",
       "      <td>0.402769</td>\n",
       "    </tr>\n",
       "    <tr>\n",
       "      <th>min</th>\n",
       "      <td>1.556570e+07</td>\n",
       "      <td>350.000000</td>\n",
       "      <td>18.000000</td>\n",
       "      <td>0.000000</td>\n",
       "      <td>0.000000</td>\n",
       "      <td>1.000000</td>\n",
       "      <td>0.00000</td>\n",
       "      <td>0.000000</td>\n",
       "      <td>11.580000</td>\n",
       "      <td>0.000000</td>\n",
       "    </tr>\n",
       "    <tr>\n",
       "      <th>25%</th>\n",
       "      <td>1.562853e+07</td>\n",
       "      <td>584.000000</td>\n",
       "      <td>32.000000</td>\n",
       "      <td>3.000000</td>\n",
       "      <td>0.000000</td>\n",
       "      <td>1.000000</td>\n",
       "      <td>0.00000</td>\n",
       "      <td>0.000000</td>\n",
       "      <td>51002.110000</td>\n",
       "      <td>0.000000</td>\n",
       "    </tr>\n",
       "    <tr>\n",
       "      <th>50%</th>\n",
       "      <td>1.569074e+07</td>\n",
       "      <td>652.000000</td>\n",
       "      <td>37.000000</td>\n",
       "      <td>5.000000</td>\n",
       "      <td>97198.540000</td>\n",
       "      <td>1.000000</td>\n",
       "      <td>1.00000</td>\n",
       "      <td>1.000000</td>\n",
       "      <td>100193.915000</td>\n",
       "      <td>0.000000</td>\n",
       "    </tr>\n",
       "    <tr>\n",
       "      <th>75%</th>\n",
       "      <td>1.575323e+07</td>\n",
       "      <td>718.000000</td>\n",
       "      <td>44.000000</td>\n",
       "      <td>7.000000</td>\n",
       "      <td>127644.240000</td>\n",
       "      <td>2.000000</td>\n",
       "      <td>1.00000</td>\n",
       "      <td>1.000000</td>\n",
       "      <td>149388.247500</td>\n",
       "      <td>0.000000</td>\n",
       "    </tr>\n",
       "    <tr>\n",
       "      <th>max</th>\n",
       "      <td>1.581569e+07</td>\n",
       "      <td>850.000000</td>\n",
       "      <td>92.000000</td>\n",
       "      <td>10.000000</td>\n",
       "      <td>250898.090000</td>\n",
       "      <td>4.000000</td>\n",
       "      <td>1.00000</td>\n",
       "      <td>1.000000</td>\n",
       "      <td>199992.480000</td>\n",
       "      <td>1.000000</td>\n",
       "    </tr>\n",
       "  </tbody>\n",
       "</table>\n",
       "</div>"
      ],
      "text/plain": [
       "        customer_id  credit_score           age        tenure        balance  \\\n",
       "count  1.000000e+04  10000.000000  10000.000000  10000.000000   10000.000000   \n",
       "mean   1.569094e+07    650.528800     38.921800      5.012800   76485.889288   \n",
       "std    7.193619e+04     96.653299     10.487806      2.892174   62397.405202   \n",
       "min    1.556570e+07    350.000000     18.000000      0.000000       0.000000   \n",
       "25%    1.562853e+07    584.000000     32.000000      3.000000       0.000000   \n",
       "50%    1.569074e+07    652.000000     37.000000      5.000000   97198.540000   \n",
       "75%    1.575323e+07    718.000000     44.000000      7.000000  127644.240000   \n",
       "max    1.581569e+07    850.000000     92.000000     10.000000  250898.090000   \n",
       "\n",
       "       products_number  credit_card  active_member  estimated_salary  \\\n",
       "count     10000.000000  10000.00000   10000.000000      10000.000000   \n",
       "mean          1.530200      0.70550       0.515100     100090.239881   \n",
       "std           0.581654      0.45584       0.499797      57510.492818   \n",
       "min           1.000000      0.00000       0.000000         11.580000   \n",
       "25%           1.000000      0.00000       0.000000      51002.110000   \n",
       "50%           1.000000      1.00000       1.000000     100193.915000   \n",
       "75%           2.000000      1.00000       1.000000     149388.247500   \n",
       "max           4.000000      1.00000       1.000000     199992.480000   \n",
       "\n",
       "              churn  \n",
       "count  10000.000000  \n",
       "mean       0.203700  \n",
       "std        0.402769  \n",
       "min        0.000000  \n",
       "25%        0.000000  \n",
       "50%        0.000000  \n",
       "75%        0.000000  \n",
       "max        1.000000  "
      ]
     },
     "execution_count": 6,
     "metadata": {},
     "output_type": "execute_result"
    }
   ],
   "source": [
    "df.describe()"
   ]
  },
  {
   "cell_type": "code",
   "execution_count": 7,
   "id": "aca209d3",
   "metadata": {
    "papermill": {
     "duration": 0.022472,
     "end_time": "2024-12-27T15:02:50.540782",
     "exception": false,
     "start_time": "2024-12-27T15:02:50.518310",
     "status": "completed"
    },
    "tags": []
   },
   "outputs": [
    {
     "data": {
      "text/plain": [
       "customer_id         0\n",
       "credit_score        0\n",
       "country             0\n",
       "gender              0\n",
       "age                 0\n",
       "tenure              0\n",
       "balance             0\n",
       "products_number     0\n",
       "credit_card         0\n",
       "active_member       0\n",
       "estimated_salary    0\n",
       "churn               0\n",
       "dtype: int64"
      ]
     },
     "execution_count": 7,
     "metadata": {},
     "output_type": "execute_result"
    }
   ],
   "source": [
    "df.isnull().sum()"
   ]
  },
  {
   "cell_type": "code",
   "execution_count": 8,
   "id": "e2c3e64c",
   "metadata": {
    "papermill": {
     "duration": 0.02198,
     "end_time": "2024-12-27T15:02:50.571612",
     "exception": false,
     "start_time": "2024-12-27T15:02:50.549632",
     "status": "completed"
    },
    "tags": []
   },
   "outputs": [],
   "source": [
    "df=df.drop(['customer_id'],axis=1)"
   ]
  },
  {
   "cell_type": "markdown",
   "id": "445418b0",
   "metadata": {
    "papermill": {
     "duration": 0.008218,
     "end_time": "2024-12-27T15:02:50.588687",
     "exception": false,
     "start_time": "2024-12-27T15:02:50.580469",
     "status": "completed"
    },
    "tags": []
   },
   "source": [
    "# EDA & Insights #"
   ]
  },
  {
   "cell_type": "code",
   "execution_count": 10,
   "id": "a0b2208e",
   "metadata": {
    "papermill": {
     "duration": 14.771758,
     "end_time": "2024-12-27T15:03:05.368824",
     "exception": false,
     "start_time": "2024-12-27T15:02:50.597066",
     "status": "completed"
    },
    "tags": []
   },
   "outputs": [
    {
     "data": {
      "text/plain": [
       "Text(0, 0.5, 'products_number')"
      ]
     },
     "execution_count": 10,
     "metadata": {},
     "output_type": "execute_result"
    },
    {
     "data": {
      "image/png": "[encoded data removed]",
      "text/plain": [
       "<Figure size 640x480 with 1 Axes>"
      ]
     },
     "metadata": {},
     "output_type": "display_data"
    }
   ],
   "source": [
    "#whatever the products_number decrease or increase still exist problem delay\n",
    "plt.bar(df['tenure'],df['products_number'])\n",
    "plt.title('The relationship between tenure and products_number')\n",
    "plt.xlabel('tenure')\n",
    "plt.ylabel('products_number')"
   ]
  },
  {
   "cell_type": "code",
   "execution_count": 11,
   "id": "913b9857",
   "metadata": {
    "papermill": {
     "duration": 0.308454,
     "end_time": "2024-12-27T15:03:05.686844",
     "exception": false,
     "start_time": "2024-12-27T15:03:05.378390",
     "status": "completed"
    },
    "tags": []
   },
   "outputs": [
    {
     "data": {
      "text/plain": [
       "Text(0, 0.5, 'counts')"
      ]
     },
     "execution_count": 11,
     "metadata": {},
     "output_type": "execute_result"
    },
    {
     "data": {
      "image/png": "[encoded data removed]",
      "text/plain": [
       "<Figure size 640x480 with 1 Axes>"
      ]
     },
     "metadata": {},
     "output_type": "display_data"
    }
   ],
   "source": [
    "plt.hist(df['tenure'])\n",
    "plt.title('Distribution of tenure')\n",
    "plt.xlabel('tenure')\n",
    "plt.ylabel('counts')\n",
    "#problem tenure solves this problem by increase services"
   ]
  },
  {
   "cell_type": "code",
   "execution_count": 12,
   "id": "80131df2",
   "metadata": {
    "papermill": {
     "duration": 0.022381,
     "end_time": "2024-12-27T15:03:05.719032",
     "exception": false,
     "start_time": "2024-12-27T15:03:05.696651",
     "status": "completed"
    },
    "tags": []
   },
   "outputs": [
    {
     "data": {
      "text/plain": [
       "country\n",
       "France     5014\n",
       "Germany    2509\n",
       "Spain      2477\n",
       "Name: count, dtype: int64"
      ]
     },
     "execution_count": 12,
     "metadata": {},
     "output_type": "execute_result"
    }
   ],
   "source": [
    "counts_c=df['country'].value_counts()\n",
    "counts_c"
   ]
  },
  {
   "cell_type": "code",
   "execution_count": 13,
   "id": "24f5eaa7",
   "metadata": {
    "papermill": {
     "duration": 0.230708,
     "end_time": "2024-12-27T15:03:05.959524",
     "exception": false,
     "start_time": "2024-12-27T15:03:05.728816",
     "status": "completed"
    },
    "tags": []
   },
   "outputs": [
    {
     "data": {
      "text/plain": [
       "<matplotlib.legend.Legend at 0x150637ac310>"
      ]
     },
     "execution_count": 13,
     "metadata": {},
     "output_type": "execute_result"
    },
    {
     "data": {
      "image/png": "[encoded data removed]",
      "text/plain": [
       "<Figure size 640x480 with 1 Axes>"
      ]
     },
     "metadata": {},
     "output_type": "display_data"
    }
   ],
   "source": [
    "plt.pie(counts_c,labels=counts_c.index,autopct='%0.2f%%',explode=[0,0,.2])\n",
    "plt.legend(bbox_to_anchor=(1.5,1))"
   ]
  },
  {
   "cell_type": "code",
   "execution_count": 14,
   "id": "97dfc8fa",
   "metadata": {
    "papermill": {
     "duration": 0.352617,
     "end_time": "2024-12-27T15:03:06.322694",
     "exception": false,
     "start_time": "2024-12-27T15:03:05.970077",
     "status": "completed"
    },
    "tags": []
   },
   "outputs": [
    {
     "data": {
      "image/png": "[encoded data removed]",
      "text/plain": [
       "<Figure size 640x480 with 1 Axes>"
      ]
     },
     "metadata": {},
     "output_type": "display_data"
    }
   ],
   "source": [
    "sns.set_palette(\"pastel\")\n",
    "sns.barplot(x='churn', y='products_number', hue='gender', data=df)\n",
    "plt.show()\n"
   ]
  },
  {
   "cell_type": "code",
   "execution_count": 15,
   "id": "945d8933",
   "metadata": {
    "papermill": {
     "duration": 0.315091,
     "end_time": "2024-12-27T15:03:06.648655",
     "exception": false,
     "start_time": "2024-12-27T15:03:06.333564",
     "status": "completed"
    },
    "tags": []
   },
   "outputs": [
    {
     "name": "stderr",
     "output_type": "stream",
     "text": [
      "C:\\Users\\aksha\\anaconda3\\Lib\\site-packages\\seaborn\\_oldcore.py:1119: FutureWarning: use_inf_as_na option is deprecated and will be removed in a future version. Convert inf values to NaN before operating instead.\n",
      "  with pd.option_context('mode.use_inf_as_na', True):\n"
     ]
    },
    {
     "data": {
      "text/plain": [
       "<seaborn.axisgrid.FacetGrid at 0x1505c81c8d0>"
      ]
     },
     "execution_count": 15,
     "metadata": {},
     "output_type": "execute_result"
    },
    {
     "data": {
      "image/png": "[encoded data removed]",
      "text/plain": [
       "<Figure size 500x500 with 1 Axes>"
      ]
     },
     "metadata": {},
     "output_type": "display_data"
    }
   ],
   "source": [
    "sns.displot(df['churn'])"
   ]
  },
  {
   "cell_type": "code",
   "execution_count": 16,
   "id": "1ffc8ad6",
   "metadata": {
    "papermill": {
     "duration": 3.140777,
     "end_time": "2024-12-27T15:03:09.801426",
     "exception": false,
     "start_time": "2024-12-27T15:03:06.660649",
     "status": "completed"
    },
    "tags": []
   },
   "outputs": [
    {
     "name": "stderr",
     "output_type": "stream",
     "text": [
      "C:\\Users\\aksha\\anaconda3\\Lib\\site-packages\\seaborn\\_oldcore.py:1119: FutureWarning: use_inf_as_na option is deprecated and will be removed in a future version. Convert inf values to NaN before operating instead.\n",
      "  with pd.option_context('mode.use_inf_as_na', True):\n",
      "C:\\Users\\aksha\\anaconda3\\Lib\\site-packages\\seaborn\\_oldcore.py:1119: FutureWarning: use_inf_as_na option is deprecated and will be removed in a future version. Convert inf values to NaN before operating instead.\n",
      "  with pd.option_context('mode.use_inf_as_na', True):\n",
      "C:\\Users\\aksha\\anaconda3\\Lib\\site-packages\\seaborn\\_oldcore.py:1119: FutureWarning: use_inf_as_na option is deprecated and will be removed in a future version. Convert inf values to NaN before operating instead.\n",
      "  with pd.option_context('mode.use_inf_as_na', True):\n"
     ]
    },
    {
     "data": {
      "text/plain": [
       "<seaborn.axisgrid.PairGrid at 0x15063549990>"
      ]
     },
     "execution_count": 16,
     "metadata": {},
     "output_type": "execute_result"
    },
    {
     "data": {
      "image/png": "[encoded data removed]",
      "text/plain": [
       "<Figure size 750x750 with 12 Axes>"
      ]
     },
     "metadata": {},
     "output_type": "display_data"
    }
   ],
   "source": [
    "sns.pairplot(df[['tenure', 'balance', 'products_number']], hue=None)\n"
   ]
  },
  {
   "cell_type": "code",
   "execution_count": 17,
   "id": "2a9b0701",
   "metadata": {
    "papermill": {
     "duration": 0.0268,
     "end_time": "2024-12-27T15:03:09.843198",
     "exception": false,
     "start_time": "2024-12-27T15:03:09.816398",
     "status": "completed"
    },
    "tags": []
   },
   "outputs": [
    {
     "data": {
      "text/plain": [
       "Index(['credit_score', 'age', 'tenure', 'balance', 'products_number',\n",
       "       'credit_card', 'active_member', 'estimated_salary', 'churn'],\n",
       "      dtype='object')"
      ]
     },
     "execution_count": 17,
     "metadata": {},
     "output_type": "execute_result"
    }
   ],
   "source": [
    "numeric_columns=df.select_dtypes(include=['number']).columns\n",
    "numeric_columns"
   ]
  },
  {
   "cell_type": "code",
   "execution_count": 18,
   "id": "3e797010",
   "metadata": {
    "papermill": {
     "duration": 0.40116,
     "end_time": "2024-12-27T15:03:10.257913",
     "exception": false,
     "start_time": "2024-12-27T15:03:09.856753",
     "status": "completed"
    },
    "tags": []
   },
   "outputs": [
    {
     "data": {
      "text/plain": [
       "(array([0, 1, 2, 3, 4, 5, 6, 7, 8]),\n",
       " [Text(0, 0, 'credit_score'),\n",
       "  Text(1, 0, 'age'),\n",
       "  Text(2, 0, 'tenure'),\n",
       "  Text(3, 0, 'balance'),\n",
       "  Text(4, 0, 'products_number'),\n",
       "  Text(5, 0, 'credit_card'),\n",
       "  Text(6, 0, 'active_member'),\n",
       "  Text(7, 0, 'estimated_salary'),\n",
       "  Text(8, 0, 'churn')])"
      ]
     },
     "execution_count": 18,
     "metadata": {},
     "output_type": "execute_result"
    },
    {
     "data": {
      "image/png": "[encoded data removed]",
      "text/plain": [
       "<Figure size 640x480 with 1 Axes>"
      ]
     },
     "metadata": {},
     "output_type": "display_data"
    }
   ],
   "source": [
    "sns.boxplot(data=df[numeric_columns])\n",
    "plt.xticks(rotation=45)"
   ]
  },
  {
   "cell_type": "code",
   "execution_count": 19,
   "id": "da2f3284",
   "metadata": {
    "papermill": {
     "duration": 0.247255,
     "end_time": "2024-12-27T15:03:10.519455",
     "exception": false,
     "start_time": "2024-12-27T15:03:10.272200",
     "status": "completed"
    },
    "tags": []
   },
   "outputs": [
    {
     "data": {
      "text/plain": [
       "<Axes: >"
      ]
     },
     "execution_count": 19,
     "metadata": {},
     "output_type": "execute_result"
    },
    {
     "data": {
      "image/png": "[encoded data removed]",
      "text/plain": [
       "<Figure size 640x480 with 1 Axes>"
      ]
     },
     "metadata": {},
     "output_type": "display_data"
    }
   ],
   "source": [
    "sns.boxplot(df['age'])"
   ]
  },
  {
   "cell_type": "code",
   "execution_count": 20,
   "id": "1710230c",
   "metadata": {
    "papermill": {
     "duration": 0.228442,
     "end_time": "2024-12-27T15:03:10.764224",
     "exception": false,
     "start_time": "2024-12-27T15:03:10.535782",
     "status": "completed"
    },
    "tags": []
   },
   "outputs": [
    {
     "data": {
      "text/plain": [
       "<Axes: >"
      ]
     },
     "execution_count": 20,
     "metadata": {},
     "output_type": "execute_result"
    },
    {
     "data": {
      "image/png": "[encoded data removed]",
      "text/plain": [
       "<Figure size 640x480 with 1 Axes>"
      ]
     },
     "metadata": {},
     "output_type": "display_data"
    }
   ],
   "source": [
    "sns.boxplot(df['credit_score'])"
   ]
  },
  {
   "cell_type": "code",
   "execution_count": 21,
   "id": "d6c6c64f",
   "metadata": {
    "papermill": {
     "duration": 0.223747,
     "end_time": "2024-12-27T15:03:11.003131",
     "exception": false,
     "start_time": "2024-12-27T15:03:10.779384",
     "status": "completed"
    },
    "tags": []
   },
   "outputs": [
    {
     "data": {
      "text/plain": [
       "<Axes: >"
      ]
     },
     "execution_count": 21,
     "metadata": {},
     "output_type": "execute_result"
    },
    {
     "data": {
      "image/png": "[encoded data removed]",
      "text/plain": [
       "<Figure size 640x480 with 1 Axes>"
      ]
     },
     "metadata": {},
     "output_type": "display_data"
    }
   ],
   "source": [
    "sns.boxplot(df['products_number'])"
   ]
  },
  {
   "cell_type": "markdown",
   "id": "e88a3044",
   "metadata": {
    "papermill": {
     "duration": 0.015523,
     "end_time": "2024-12-27T15:03:11.035449",
     "exception": false,
     "start_time": "2024-12-27T15:03:11.019926",
     "status": "completed"
    },
    "tags": []
   },
   "source": [
    "# Preprocessing #"
   ]
  },
  {
   "cell_type": "code",
   "execution_count": 23,
   "id": "40652415",
   "metadata": {
    "papermill": {
     "duration": 0.032588,
     "end_time": "2024-12-27T15:03:11.084877",
     "exception": false,
     "start_time": "2024-12-27T15:03:11.052289",
     "status": "completed"
    },
    "tags": []
   },
   "outputs": [
    {
     "data": {
      "text/plain": [
       "0"
      ]
     },
     "execution_count": 23,
     "metadata": {},
     "output_type": "execute_result"
    }
   ],
   "source": [
    "#chexk duplicated\n",
    "df.duplicated().sum()"
   ]
  },
  {
   "cell_type": "markdown",
   "id": "548fe3db",
   "metadata": {
    "papermill": {
     "duration": 0.014927,
     "end_time": "2024-12-27T15:03:11.115220",
     "exception": false,
     "start_time": "2024-12-27T15:03:11.100293",
     "status": "completed"
    },
    "tags": []
   },
   "source": [
    "# Remove Outliers #"
   ]
  },
  {
   "cell_type": "code",
   "execution_count": 25,
   "id": "a2607615",
   "metadata": {
    "papermill": {
     "duration": 0.057843,
     "end_time": "2024-12-27T15:03:11.188342",
     "exception": false,
     "start_time": "2024-12-27T15:03:11.130499",
     "status": "completed"
    },
    "tags": []
   },
   "outputs": [
    {
     "name": "stdout",
     "output_type": "stream",
     "text": [
      "Outliers dropped\n",
      "Outliers dropped\n",
      "Outliers dropped\n",
      "Outliers dropped\n",
      "Outliers dropped\n",
      "Outliers dropped\n",
      "Outliers dropped\n",
      "Outliers dropped\n"
     ]
    }
   ],
   "source": [
    "#Handaling outlier\n",
    "def outliers_handler(real_data:pd.DataFrame(),col_name:str)->pd.DataFrame():\n",
    "    data=real_data.copy()\n",
    "    q1 = np.percentile(data[col_name],25)\n",
    "    q3 = np.percentile(data[col_name],75)\n",
    "    iqr = q3-q1\n",
    "    upper_bound = q3+(1.5*iqr)\n",
    "    lower_bound = q1-(1.5*iqr)\n",
    "    outliers = (data[col_name]>upper_bound) | (data[col_name]<lower_bound)\n",
    "    num_of_outliers = len(data[outliers])\n",
    "    if num_of_outliers <= len(data)*0.1:\n",
    "        data = data[~outliers]\n",
    "        print(\"Outliers dropped\")\n",
    "    else:\n",
    "        data.loc[data[col_name]>upper_bound,col_name] = upper_bound\n",
    "        data.loc[data[col_name]<lower_bound,col_name] = lower_bound\n",
    "        print(\"Outliers replaced\")\n",
    "    return data\n",
    "for i in numeric_columns:\n",
    "    if i=='churn':\n",
    "        break\n",
    "    df=outliers_handler(df,i)"
   ]
  },
  {
   "cell_type": "code",
   "execution_count": 26,
   "id": "cdf9fb31",
   "metadata": {
    "papermill": {
     "duration": 0.033128,
     "end_time": "2024-12-27T15:03:11.237247",
     "exception": false,
     "start_time": "2024-12-27T15:03:11.204119",
     "status": "completed"
    },
    "tags": []
   },
   "outputs": [
    {
     "data": {
      "text/html": [
       "<div>\n",
       "<style scoped>\n",
       "    .dataframe tbody tr th:only-of-type {\n",
       "        vertical-align: middle;\n",
       "    }\n",
       "\n",
       "    .dataframe tbody tr th {\n",
       "        vertical-align: top;\n",
       "    }\n",
       "\n",
       "    .dataframe thead th {\n",
       "        text-align: right;\n",
       "    }\n",
       "</style>\n",
       "<table border=\"1\" class=\"dataframe\">\n",
       "  <thead>\n",
       "    <tr style=\"text-align: right;\">\n",
       "      <th></th>\n",
       "      <th>credit_score</th>\n",
       "      <th>country</th>\n",
       "      <th>gender</th>\n",
       "      <th>age</th>\n",
       "      <th>tenure</th>\n",
       "      <th>balance</th>\n",
       "      <th>products_number</th>\n",
       "      <th>credit_card</th>\n",
       "      <th>active_member</th>\n",
       "      <th>estimated_salary</th>\n",
       "      <th>churn</th>\n",
       "    </tr>\n",
       "  </thead>\n",
       "  <tbody>\n",
       "    <tr>\n",
       "      <th>0</th>\n",
       "      <td>619</td>\n",
       "      <td>France</td>\n",
       "      <td>Female</td>\n",
       "      <td>42</td>\n",
       "      <td>2</td>\n",
       "      <td>0.00</td>\n",
       "      <td>1</td>\n",
       "      <td>1</td>\n",
       "      <td>1</td>\n",
       "      <td>101348.88</td>\n",
       "      <td>1</td>\n",
       "    </tr>\n",
       "    <tr>\n",
       "      <th>1</th>\n",
       "      <td>608</td>\n",
       "      <td>Spain</td>\n",
       "      <td>Female</td>\n",
       "      <td>41</td>\n",
       "      <td>1</td>\n",
       "      <td>83807.86</td>\n",
       "      <td>1</td>\n",
       "      <td>0</td>\n",
       "      <td>1</td>\n",
       "      <td>112542.58</td>\n",
       "      <td>0</td>\n",
       "    </tr>\n",
       "    <tr>\n",
       "      <th>2</th>\n",
       "      <td>502</td>\n",
       "      <td>France</td>\n",
       "      <td>Female</td>\n",
       "      <td>42</td>\n",
       "      <td>8</td>\n",
       "      <td>159660.80</td>\n",
       "      <td>3</td>\n",
       "      <td>1</td>\n",
       "      <td>0</td>\n",
       "      <td>113931.57</td>\n",
       "      <td>1</td>\n",
       "    </tr>\n",
       "    <tr>\n",
       "      <th>3</th>\n",
       "      <td>699</td>\n",
       "      <td>France</td>\n",
       "      <td>Female</td>\n",
       "      <td>39</td>\n",
       "      <td>1</td>\n",
       "      <td>0.00</td>\n",
       "      <td>2</td>\n",
       "      <td>0</td>\n",
       "      <td>0</td>\n",
       "      <td>93826.63</td>\n",
       "      <td>0</td>\n",
       "    </tr>\n",
       "    <tr>\n",
       "      <th>4</th>\n",
       "      <td>850</td>\n",
       "      <td>Spain</td>\n",
       "      <td>Female</td>\n",
       "      <td>43</td>\n",
       "      <td>2</td>\n",
       "      <td>125510.82</td>\n",
       "      <td>1</td>\n",
       "      <td>1</td>\n",
       "      <td>1</td>\n",
       "      <td>79084.10</td>\n",
       "      <td>0</td>\n",
       "    </tr>\n",
       "  </tbody>\n",
       "</table>\n",
       "</div>"
      ],
      "text/plain": [
       "   credit_score country  gender  age  tenure    balance  products_number  \\\n",
       "0           619  France  Female   42       2       0.00                1   \n",
       "1           608   Spain  Female   41       1   83807.86                1   \n",
       "2           502  France  Female   42       8  159660.80                3   \n",
       "3           699  France  Female   39       1       0.00                2   \n",
       "4           850   Spain  Female   43       2  125510.82                1   \n",
       "\n",
       "   credit_card  active_member  estimated_salary  churn  \n",
       "0            1              1         101348.88      1  \n",
       "1            0              1         112542.58      0  \n",
       "2            1              0         113931.57      1  \n",
       "3            0              0          93826.63      0  \n",
       "4            1              1          79084.10      0  "
      ]
     },
     "execution_count": 26,
     "metadata": {},
     "output_type": "execute_result"
    }
   ],
   "source": [
    "df.head()"
   ]
  },
  {
   "cell_type": "markdown",
   "id": "88699b9b",
   "metadata": {
    "papermill": {
     "duration": 0.017246,
     "end_time": "2024-12-27T15:03:11.271120",
     "exception": false,
     "start_time": "2024-12-27T15:03:11.253874",
     "status": "completed"
    },
    "tags": []
   },
   "source": [
    "# Encoding Catgorical columns"
   ]
  },
  {
   "cell_type": "code",
   "execution_count": 28,
   "id": "7a064b7b",
   "metadata": {
    "papermill": {
     "duration": 0.028418,
     "end_time": "2024-12-27T15:03:11.317747",
     "exception": false,
     "start_time": "2024-12-27T15:03:11.289329",
     "status": "completed"
    },
    "tags": []
   },
   "outputs": [
    {
     "data": {
      "text/plain": [
       "Index(['country', 'gender'], dtype='object')"
      ]
     },
     "execution_count": 28,
     "metadata": {},
     "output_type": "execute_result"
    }
   ],
   "source": [
    "catgorical_columns=df.select_dtypes(include=['object']).columns\n",
    "catgorical_columns"
   ]
  },
  {
   "cell_type": "code",
   "execution_count": 29,
   "id": "ccbd451b",
   "metadata": {
    "papermill": {
     "duration": 0.050078,
     "end_time": "2024-12-27T15:03:11.390072",
     "exception": false,
     "start_time": "2024-12-27T15:03:11.339994",
     "status": "completed"
    },
    "tags": []
   },
   "outputs": [
    {
     "data": {
      "text/html": [
       "<div>\n",
       "<style scoped>\n",
       "    .dataframe tbody tr th:only-of-type {\n",
       "        vertical-align: middle;\n",
       "    }\n",
       "\n",
       "    .dataframe tbody tr th {\n",
       "        vertical-align: top;\n",
       "    }\n",
       "\n",
       "    .dataframe thead th {\n",
       "        text-align: right;\n",
       "    }\n",
       "</style>\n",
       "<table border=\"1\" class=\"dataframe\">\n",
       "  <thead>\n",
       "    <tr style=\"text-align: right;\">\n",
       "      <th></th>\n",
       "      <th>credit_score</th>\n",
       "      <th>country</th>\n",
       "      <th>gender</th>\n",
       "      <th>age</th>\n",
       "      <th>tenure</th>\n",
       "      <th>balance</th>\n",
       "      <th>products_number</th>\n",
       "      <th>credit_card</th>\n",
       "      <th>active_member</th>\n",
       "      <th>estimated_salary</th>\n",
       "      <th>churn</th>\n",
       "    </tr>\n",
       "  </thead>\n",
       "  <tbody>\n",
       "    <tr>\n",
       "      <th>0</th>\n",
       "      <td>619</td>\n",
       "      <td>0</td>\n",
       "      <td>0</td>\n",
       "      <td>42</td>\n",
       "      <td>2</td>\n",
       "      <td>0.00</td>\n",
       "      <td>1</td>\n",
       "      <td>1</td>\n",
       "      <td>1</td>\n",
       "      <td>101348.88</td>\n",
       "      <td>1</td>\n",
       "    </tr>\n",
       "    <tr>\n",
       "      <th>1</th>\n",
       "      <td>608</td>\n",
       "      <td>2</td>\n",
       "      <td>0</td>\n",
       "      <td>41</td>\n",
       "      <td>1</td>\n",
       "      <td>83807.86</td>\n",
       "      <td>1</td>\n",
       "      <td>0</td>\n",
       "      <td>1</td>\n",
       "      <td>112542.58</td>\n",
       "      <td>0</td>\n",
       "    </tr>\n",
       "    <tr>\n",
       "      <th>2</th>\n",
       "      <td>502</td>\n",
       "      <td>0</td>\n",
       "      <td>0</td>\n",
       "      <td>42</td>\n",
       "      <td>8</td>\n",
       "      <td>159660.80</td>\n",
       "      <td>3</td>\n",
       "      <td>1</td>\n",
       "      <td>0</td>\n",
       "      <td>113931.57</td>\n",
       "      <td>1</td>\n",
       "    </tr>\n",
       "    <tr>\n",
       "      <th>3</th>\n",
       "      <td>699</td>\n",
       "      <td>0</td>\n",
       "      <td>0</td>\n",
       "      <td>39</td>\n",
       "      <td>1</td>\n",
       "      <td>0.00</td>\n",
       "      <td>2</td>\n",
       "      <td>0</td>\n",
       "      <td>0</td>\n",
       "      <td>93826.63</td>\n",
       "      <td>0</td>\n",
       "    </tr>\n",
       "    <tr>\n",
       "      <th>4</th>\n",
       "      <td>850</td>\n",
       "      <td>2</td>\n",
       "      <td>0</td>\n",
       "      <td>43</td>\n",
       "      <td>2</td>\n",
       "      <td>125510.82</td>\n",
       "      <td>1</td>\n",
       "      <td>1</td>\n",
       "      <td>1</td>\n",
       "      <td>79084.10</td>\n",
       "      <td>0</td>\n",
       "    </tr>\n",
       "  </tbody>\n",
       "</table>\n",
       "</div>"
      ],
      "text/plain": [
       "   credit_score  country  gender  age  tenure    balance  products_number  \\\n",
       "0           619        0       0   42       2       0.00                1   \n",
       "1           608        2       0   41       1   83807.86                1   \n",
       "2           502        0       0   42       8  159660.80                3   \n",
       "3           699        0       0   39       1       0.00                2   \n",
       "4           850        2       0   43       2  125510.82                1   \n",
       "\n",
       "   credit_card  active_member  estimated_salary  churn  \n",
       "0            1              1         101348.88      1  \n",
       "1            0              1         112542.58      0  \n",
       "2            1              0         113931.57      1  \n",
       "3            0              0          93826.63      0  \n",
       "4            1              1          79084.10      0  "
      ]
     },
     "execution_count": 29,
     "metadata": {},
     "output_type": "execute_result"
    }
   ],
   "source": [
    "lb=LabelEncoder()\n",
    "for col in catgorical_columns:\n",
    "    df[col]=lb.fit_transform(df[col])\n",
    "df.head()"
   ]
  },
  {
   "cell_type": "code",
   "execution_count": 30,
   "id": "d1f82d68-3e48-4993-acf8-e533ab9fc3f5",
   "metadata": {},
   "outputs": [
    {
     "data": {
      "text/html": [
       "<div>\n",
       "<style scoped>\n",
       "    .dataframe tbody tr th:only-of-type {\n",
       "        vertical-align: middle;\n",
       "    }\n",
       "\n",
       "    .dataframe tbody tr th {\n",
       "        vertical-align: top;\n",
       "    }\n",
       "\n",
       "    .dataframe thead th {\n",
       "        text-align: right;\n",
       "    }\n",
       "</style>\n",
       "<table border=\"1\" class=\"dataframe\">\n",
       "  <thead>\n",
       "    <tr style=\"text-align: right;\">\n",
       "      <th></th>\n",
       "      <th>credit_score</th>\n",
       "      <th>country</th>\n",
       "      <th>gender</th>\n",
       "      <th>age</th>\n",
       "      <th>tenure</th>\n",
       "      <th>balance</th>\n",
       "      <th>products_number</th>\n",
       "      <th>credit_card</th>\n",
       "      <th>active_member</th>\n",
       "      <th>estimated_salary</th>\n",
       "      <th>churn</th>\n",
       "    </tr>\n",
       "  </thead>\n",
       "  <tbody>\n",
       "    <tr>\n",
       "      <th>0</th>\n",
       "      <td>619</td>\n",
       "      <td>0</td>\n",
       "      <td>0</td>\n",
       "      <td>42</td>\n",
       "      <td>2</td>\n",
       "      <td>0.00</td>\n",
       "      <td>1</td>\n",
       "      <td>1</td>\n",
       "      <td>1</td>\n",
       "      <td>101348.88</td>\n",
       "      <td>1</td>\n",
       "    </tr>\n",
       "    <tr>\n",
       "      <th>1</th>\n",
       "      <td>608</td>\n",
       "      <td>2</td>\n",
       "      <td>0</td>\n",
       "      <td>41</td>\n",
       "      <td>1</td>\n",
       "      <td>83807.86</td>\n",
       "      <td>1</td>\n",
       "      <td>0</td>\n",
       "      <td>1</td>\n",
       "      <td>112542.58</td>\n",
       "      <td>0</td>\n",
       "    </tr>\n",
       "    <tr>\n",
       "      <th>2</th>\n",
       "      <td>502</td>\n",
       "      <td>0</td>\n",
       "      <td>0</td>\n",
       "      <td>42</td>\n",
       "      <td>8</td>\n",
       "      <td>159660.80</td>\n",
       "      <td>3</td>\n",
       "      <td>1</td>\n",
       "      <td>0</td>\n",
       "      <td>113931.57</td>\n",
       "      <td>1</td>\n",
       "    </tr>\n",
       "    <tr>\n",
       "      <th>3</th>\n",
       "      <td>699</td>\n",
       "      <td>0</td>\n",
       "      <td>0</td>\n",
       "      <td>39</td>\n",
       "      <td>1</td>\n",
       "      <td>0.00</td>\n",
       "      <td>2</td>\n",
       "      <td>0</td>\n",
       "      <td>0</td>\n",
       "      <td>93826.63</td>\n",
       "      <td>0</td>\n",
       "    </tr>\n",
       "    <tr>\n",
       "      <th>4</th>\n",
       "      <td>850</td>\n",
       "      <td>2</td>\n",
       "      <td>0</td>\n",
       "      <td>43</td>\n",
       "      <td>2</td>\n",
       "      <td>125510.82</td>\n",
       "      <td>1</td>\n",
       "      <td>1</td>\n",
       "      <td>1</td>\n",
       "      <td>79084.10</td>\n",
       "      <td>0</td>\n",
       "    </tr>\n",
       "    <tr>\n",
       "      <th>...</th>\n",
       "      <td>...</td>\n",
       "      <td>...</td>\n",
       "      <td>...</td>\n",
       "      <td>...</td>\n",
       "      <td>...</td>\n",
       "      <td>...</td>\n",
       "      <td>...</td>\n",
       "      <td>...</td>\n",
       "      <td>...</td>\n",
       "      <td>...</td>\n",
       "      <td>...</td>\n",
       "    </tr>\n",
       "    <tr>\n",
       "      <th>9995</th>\n",
       "      <td>771</td>\n",
       "      <td>0</td>\n",
       "      <td>1</td>\n",
       "      <td>39</td>\n",
       "      <td>5</td>\n",
       "      <td>0.00</td>\n",
       "      <td>2</td>\n",
       "      <td>1</td>\n",
       "      <td>0</td>\n",
       "      <td>96270.64</td>\n",
       "      <td>0</td>\n",
       "    </tr>\n",
       "    <tr>\n",
       "      <th>9996</th>\n",
       "      <td>516</td>\n",
       "      <td>0</td>\n",
       "      <td>1</td>\n",
       "      <td>35</td>\n",
       "      <td>10</td>\n",
       "      <td>57369.61</td>\n",
       "      <td>1</td>\n",
       "      <td>1</td>\n",
       "      <td>1</td>\n",
       "      <td>101699.77</td>\n",
       "      <td>0</td>\n",
       "    </tr>\n",
       "    <tr>\n",
       "      <th>9997</th>\n",
       "      <td>709</td>\n",
       "      <td>0</td>\n",
       "      <td>0</td>\n",
       "      <td>36</td>\n",
       "      <td>7</td>\n",
       "      <td>0.00</td>\n",
       "      <td>1</td>\n",
       "      <td>0</td>\n",
       "      <td>1</td>\n",
       "      <td>42085.58</td>\n",
       "      <td>1</td>\n",
       "    </tr>\n",
       "    <tr>\n",
       "      <th>9998</th>\n",
       "      <td>772</td>\n",
       "      <td>1</td>\n",
       "      <td>1</td>\n",
       "      <td>42</td>\n",
       "      <td>3</td>\n",
       "      <td>75075.31</td>\n",
       "      <td>2</td>\n",
       "      <td>1</td>\n",
       "      <td>0</td>\n",
       "      <td>92888.52</td>\n",
       "      <td>1</td>\n",
       "    </tr>\n",
       "    <tr>\n",
       "      <th>9999</th>\n",
       "      <td>792</td>\n",
       "      <td>0</td>\n",
       "      <td>0</td>\n",
       "      <td>28</td>\n",
       "      <td>4</td>\n",
       "      <td>130142.79</td>\n",
       "      <td>1</td>\n",
       "      <td>1</td>\n",
       "      <td>0</td>\n",
       "      <td>38190.78</td>\n",
       "      <td>0</td>\n",
       "    </tr>\n",
       "  </tbody>\n",
       "</table>\n",
       "<p>9568 rows × 11 columns</p>\n",
       "</div>"
      ],
      "text/plain": [
       "      credit_score  country  gender  age  tenure    balance  products_number  \\\n",
       "0              619        0       0   42       2       0.00                1   \n",
       "1              608        2       0   41       1   83807.86                1   \n",
       "2              502        0       0   42       8  159660.80                3   \n",
       "3              699        0       0   39       1       0.00                2   \n",
       "4              850        2       0   43       2  125510.82                1   \n",
       "...            ...      ...     ...  ...     ...        ...              ...   \n",
       "9995           771        0       1   39       5       0.00                2   \n",
       "9996           516        0       1   35      10   57369.61                1   \n",
       "9997           709        0       0   36       7       0.00                1   \n",
       "9998           772        1       1   42       3   75075.31                2   \n",
       "9999           792        0       0   28       4  130142.79                1   \n",
       "\n",
       "      credit_card  active_member  estimated_salary  churn  \n",
       "0               1              1         101348.88      1  \n",
       "1               0              1         112542.58      0  \n",
       "2               1              0         113931.57      1  \n",
       "3               0              0          93826.63      0  \n",
       "4               1              1          79084.10      0  \n",
       "...           ...            ...               ...    ...  \n",
       "9995            1              0          96270.64      0  \n",
       "9996            1              1         101699.77      0  \n",
       "9997            0              1          42085.58      1  \n",
       "9998            1              0          92888.52      1  \n",
       "9999            1              0          38190.78      0  \n",
       "\n",
       "[9568 rows x 11 columns]"
      ]
     },
     "execution_count": 30,
     "metadata": {},
     "output_type": "execute_result"
    }
   ],
   "source": [
    "df"
   ]
  },
  {
   "cell_type": "code",
   "execution_count": 31,
   "id": "130cfdd8-6b2a-4f6b-8464-8cdadcc96b3e",
   "metadata": {},
   "outputs": [],
   "source": [
    "df = pd.DataFrame(df)\n",
    "\n",
    "# Save to a pickle file\n",
    "file_path = \"banking_churn.pkl\"\n",
    "df.to_pickle(file_path)"
   ]
  },
  {
   "cell_type": "markdown",
   "id": "979fef4f",
   "metadata": {
    "papermill": {
     "duration": 0.016717,
     "end_time": "2024-12-27T15:03:11.427612",
     "exception": false,
     "start_time": "2024-12-27T15:03:11.410895",
     "status": "completed"
    },
    "tags": []
   },
   "source": [
    "# Balancing Data #"
   ]
  },
  {
   "cell_type": "code",
   "execution_count": 33,
   "id": "8bca6494",
   "metadata": {
    "papermill": {
     "duration": 0.028511,
     "end_time": "2024-12-27T15:03:11.472926",
     "exception": false,
     "start_time": "2024-12-27T15:03:11.444415",
     "status": "completed"
    },
    "tags": []
   },
   "outputs": [],
   "source": [
    "x =df.drop(columns=['churn'])  \n",
    "y=df['churn']"
   ]
  },
  {
   "cell_type": "code",
   "execution_count": 34,
   "id": "24e7f83b",
   "metadata": {
    "papermill": {
     "duration": 0.321186,
     "end_time": "2024-12-27T15:03:11.816967",
     "exception": false,
     "start_time": "2024-12-27T15:03:11.495781",
     "status": "completed"
    },
    "tags": []
   },
   "outputs": [],
   "source": [
    "from imblearn.over_sampling import SMOTE\n",
    "resampler = SMOTE()\n",
    "x,y = resampler.fit_resample(x,y)"
   ]
  },
  {
   "cell_type": "code",
   "execution_count": 35,
   "id": "972e97a1-73ca-40a0-a3a8-d4409c691034",
   "metadata": {},
   "outputs": [],
   "source": [
    "with open(\"smote_resampler.pkl\", \"wb\") as f:\n",
    "    pickle.dump(resampler, f)"
   ]
  },
  {
   "cell_type": "code",
   "execution_count": 36,
   "id": "34c7b3cc",
   "metadata": {
    "papermill": {
     "duration": 0.326578,
     "end_time": "2024-12-27T15:03:12.168425",
     "exception": false,
     "start_time": "2024-12-27T15:03:11.841847",
     "status": "completed"
    },
    "tags": []
   },
   "outputs": [
    {
     "data": {
      "image/png": "[encoded data removed]",
      "text/plain": [
       "<Figure size 640x480 with 1 Axes>"
      ]
     },
     "metadata": {},
     "output_type": "display_data"
    }
   ],
   "source": [
    "counts=y.value_counts()\n",
    "plt.bar(counts.index,counts.values)\n",
    "plt.title('Destribuation of Churn')\n",
    "plt.xlabel('Churn')\n",
    "plt.ylabel('Counts')\n",
    "plt.show()"
   ]
  },
  {
   "cell_type": "markdown",
   "id": "00d60bd1",
   "metadata": {
    "papermill": {
     "duration": 0.017394,
     "end_time": "2024-12-27T15:03:12.203448",
     "exception": false,
     "start_time": "2024-12-27T15:03:12.186054",
     "status": "completed"
    },
    "tags": []
   },
   "source": [
    "# split the data #"
   ]
  },
  {
   "cell_type": "code",
   "execution_count": 38,
   "id": "23d80330",
   "metadata": {
    "papermill": {
     "duration": 0.034934,
     "end_time": "2024-12-27T15:03:12.256012",
     "exception": false,
     "start_time": "2024-12-27T15:03:12.221078",
     "status": "completed"
    },
    "tags": []
   },
   "outputs": [],
   "source": [
    "x_train,x_test,y_train,y_test=train_test_split(x,y,test_size=0.2,random_state=42)"
   ]
  },
  {
   "cell_type": "code",
   "execution_count": 39,
   "id": "4b94a1f4",
   "metadata": {
    "papermill": {
     "duration": 0.780772,
     "end_time": "2024-12-27T15:03:13.054368",
     "exception": false,
     "start_time": "2024-12-27T15:03:12.273596",
     "status": "completed"
    },
    "tags": []
   },
   "outputs": [
    {
     "data": {
      "text/plain": [
       "<Axes: >"
      ]
     },
     "execution_count": 39,
     "metadata": {},
     "output_type": "execute_result"
    },
    {
     "data": {
      "image/png": "[encoded data removed]",
      "text/plain": [
       "<Figure size 640x480 with 2 Axes>"
      ]
     },
     "metadata": {},
     "output_type": "display_data"
    }
   ],
   "source": [
    "combined = pd.concat([x_train,y_train], axis=1)\n",
    "\n",
    "correlation_matrix = combined.corr() \n",
    "sns.heatmap(correlation_matrix,annot=True,fmt='.2f')"
   ]
  },
  {
   "cell_type": "markdown",
   "id": "3303bc7b",
   "metadata": {
    "papermill": {
     "duration": 0.01797,
     "end_time": "2024-12-27T15:03:13.092043",
     "exception": false,
     "start_time": "2024-12-27T15:03:13.074073",
     "status": "completed"
    },
    "tags": []
   },
   "source": [
    "# scaling #"
   ]
  },
  {
   "cell_type": "code",
   "execution_count": 41,
   "id": "e8e20fb0",
   "metadata": {
    "papermill": {
     "duration": 0.039269,
     "end_time": "2024-12-27T15:03:13.149951",
     "exception": false,
     "start_time": "2024-12-27T15:03:13.110682",
     "status": "completed"
    },
    "tags": []
   },
   "outputs": [],
   "source": [
    "sc=StandardScaler()\n",
    "x_train=sc.fit_transform(x_train)\n",
    "x_test=sc.fit_transform(x_test)"
   ]
  },
  {
   "cell_type": "code",
   "execution_count": 42,
   "id": "7eed67de-e503-4771-b68d-b6b48b5f81f2",
   "metadata": {},
   "outputs": [],
   "source": [
    "scaler_file_path = \"standard_scaler.pkl\"\n",
    "with open(scaler_file_path, \"wb\") as f:\n",
    "    pickle.dump(sc, f)"
   ]
  },
  {
   "cell_type": "code",
   "execution_count": 43,
   "id": "f83ccd80",
   "metadata": {
    "papermill": {
     "duration": 0.029053,
     "end_time": "2024-12-27T15:03:13.197573",
     "exception": false,
     "start_time": "2024-12-27T15:03:13.168520",
     "status": "completed"
    },
    "tags": []
   },
   "outputs": [],
   "source": [
    "def evaluate_model(y_test, y_pred):\n",
    "    print(f\"Accuracy: {accuracy_score(y_test, y_pred)}\")\n",
    "    print(f\"Precision: {precision_score(y_test, y_pred)}\")\n",
    "    print(f\"Recall: {recall_score(y_test, y_pred)}\")\n",
    "    cm = confusion_matrix(y_test, y_pred)\n",
    "    print(f\"ROC AUC: {roc_auc_score(y_test, y_pred)}\")\n",
    "    sns.heatmap(cm, annot=True, fmt=\"d\", cmap=\"Blues\")\n",
    "    plt.show()"
   ]
  },
  {
   "cell_type": "markdown",
   "id": "7cdfc2c7",
   "metadata": {
    "papermill": {
     "duration": 0.02229,
     "end_time": "2024-12-27T15:03:13.238661",
     "exception": false,
     "start_time": "2024-12-27T15:03:13.216371",
     "status": "completed"
    },
    "tags": []
   },
   "source": [
    "# Modeling #"
   ]
  },
  {
   "cell_type": "code",
   "execution_count": 45,
   "id": "115ed8a9",
   "metadata": {
    "papermill": {
     "duration": 0.05696,
     "end_time": "2024-12-27T15:03:13.314784",
     "exception": false,
     "start_time": "2024-12-27T15:03:13.257824",
     "status": "completed"
    },
    "tags": []
   },
   "outputs": [],
   "source": [
    "LR= LogisticRegression()\n",
    "\n",
    "# Train the model\n",
    "LR.fit(x_train, y_train)\n",
    "\n",
    "# Make predictions\n",
    "y_pred_LR = LR.predict(x_test)"
   ]
  },
  {
   "cell_type": "code",
   "execution_count": 46,
   "id": "7c0043da",
   "metadata": {
    "papermill": {
     "duration": 0.30252,
     "end_time": "2024-12-27T15:03:13.664140",
     "exception": false,
     "start_time": "2024-12-27T15:03:13.361620",
     "status": "completed"
    },
    "tags": []
   },
   "outputs": [
    {
     "name": "stdout",
     "output_type": "stream",
     "text": [
      "Accuracy: 0.7932269619016606\n",
      "Precision: 0.777490297542044\n",
      "Recall: 0.8050904219691896\n",
      "ROC AUC: 0.7935464784117178\n"
     ]
    },
    {
     "data": {
      "image/png": "[encoded data removed]",
      "text/plain": [
       "<Figure size 640x480 with 2 Axes>"
      ]
     },
     "metadata": {},
     "output_type": "display_data"
    }
   ],
   "source": [
    "evaluate_model(y_test,y_pred_LR)"
   ]
  },
  {
   "cell_type": "code",
   "execution_count": 48,
   "id": "17d72345-27ce-4c18-91af-aa661a093cc7",
   "metadata": {},
   "outputs": [],
   "source": [
    "LR_model_file_path = \"LR_model.pkl\"\n",
    "with open(LR_model_file_path, \"wb\") as f:\n",
    "    pickle.dump(LR, f)"
   ]
  },
  {
   "cell_type": "code",
   "execution_count": 50,
   "id": "380fb98a",
   "metadata": {
    "papermill": {
     "duration": 0.102901,
     "end_time": "2024-12-27T15:03:13.787472",
     "exception": false,
     "start_time": "2024-12-27T15:03:13.684571",
     "status": "completed"
    },
    "tags": []
   },
   "outputs": [],
   "source": [
    "dt = DecisionTreeClassifier(random_state=42)\n",
    "\n",
    "# Train the model\n",
    "dt.fit(x_train, y_train)\n",
    "\n",
    "# Make predictions\n",
    "y_pred_dt = dt.predict(x_test)"
   ]
  },
  {
   "cell_type": "code",
   "execution_count": 52,
   "id": "13f29433",
   "metadata": {
    "papermill": {
     "duration": 0.297631,
     "end_time": "2024-12-27T15:03:14.104405",
     "exception": false,
     "start_time": "2024-12-27T15:03:13.806774",
     "status": "completed"
    },
    "tags": []
   },
   "outputs": [
    {
     "name": "stdout",
     "output_type": "stream",
     "text": [
      "Accuracy: 0.7880169325952459\n",
      "Precision: 0.7737321196358907\n",
      "Recall: 0.797052913596785\n",
      "ROC AUC: 0.7882602971025751\n"
     ]
    },
    {
     "data": {
      "image/png": "[encoded data removed]",
      "text/plain": [
       "<Figure size 640x480 with 2 Axes>"
      ]
     },
     "metadata": {},
     "output_type": "display_data"
    }
   ],
   "source": [
    "#Evaluate the model\n",
    "evaluate_model(y_test,y_pred_dt)"
   ]
  },
  {
   "cell_type": "code",
   "execution_count": 53,
   "id": "c10dfd57-e311-4e20-acf5-8a34bfa9a3d3",
   "metadata": {},
   "outputs": [],
   "source": [
    "dt_model_file_path = \"decision_tree_model.pkl\"\n",
    "with open(dt_model_file_path, \"wb\") as f:\n",
    "    pickle.dump(dt, f)"
   ]
  },
  {
   "cell_type": "code",
   "execution_count": 54,
   "id": "a1e27bfc",
   "metadata": {
    "papermill": {
     "duration": 1.943531,
     "end_time": "2024-12-27T15:03:16.067546",
     "exception": false,
     "start_time": "2024-12-27T15:03:14.124015",
     "status": "completed"
    },
    "tags": []
   },
   "outputs": [],
   "source": [
    "RF = RandomForestClassifier(n_estimators=100, random_state=42)\n",
    "\n",
    "# Train the model\n",
    "RF.fit(x_train, y_train)\n",
    "\n",
    "# Make predictions\n",
    "y_pred_rf = RF.predict(x_test)"
   ]
  },
  {
   "cell_type": "code",
   "execution_count": 57,
   "id": "6f39b2c8",
   "metadata": {
    "papermill": {
     "duration": 0.285842,
     "end_time": "2024-12-27T15:03:16.375208",
     "exception": false,
     "start_time": "2024-12-27T15:03:16.089366",
     "status": "completed"
    },
    "tags": []
   },
   "outputs": [
    {
     "name": "stdout",
     "output_type": "stream",
     "text": [
      "Accuracy: 0.8567241940735917\n",
      "Precision: 0.8479841374752148\n",
      "Recall: 0.8593436034829203\n",
      "ROC AUC: 0.8567947421723854\n"
     ]
    },
    {
     "data": {
      "image/png": "[encoded data removed]",
      "text/plain": [
       "<Figure size 640x480 with 2 Axes>"
      ]
     },
     "metadata": {},
     "output_type": "display_data"
    }
   ],
   "source": [
    "evaluate_model(y_test,y_pred_rf)"
   ]
  },
  {
   "cell_type": "code",
   "execution_count": 58,
   "id": "a1c8e3e4-af9a-480c-9211-511ea7d14b5e",
   "metadata": {},
   "outputs": [],
   "source": [
    "rf_model_file_path = \"random_forest_model.pkl\"\n",
    "with open(rf_model_file_path, \"wb\") as f:\n",
    "    pickle.dump(RF, f)"
   ]
  },
  {
   "cell_type": "code",
   "execution_count": null,
   "id": "09a50b1f-4fe2-419e-a3a7-bb0ad0056969",
   "metadata": {},
   "outputs": [],
   "source": []
  }
 ],
 "metadata": {
  "kaggle": {
   "accelerator": "none",
   "dataSources": [
    {
     "datasetId": 2445309,
     "sourceId": 4139805,
     "sourceType": "datasetVersion"
    }
   ],
   "dockerImageVersionId": 30822,
   "isGpuEnabled": false,
   "isInternetEnabled": true,
   "language": "python",
   "sourceType": "notebook"
  },
  "kernelspec": {
   "display_name": "Python 3 (ipykernel)",
   "language": "python",
   "name": "python3"
  },
  "language_info": {
   "codemirror_mode": {
    "name": "ipython",
    "version": 3
   },
   "file_extension": ".py",
   "mimetype": "text/x-python",
   "name": "python",
   "nbconvert_exporter": "python",
   "pygments_lexer": "ipython3",
   "version": "3.11.7"
  },
  "papermill": {
   "default_parameters": {},
   "duration": 33.574444,
   "end_time": "2024-12-27T15:03:18.526497",
   "environment_variables": {},
   "exception": null,
   "input_path": "__notebook__.ipynb",
   "output_path": "__notebook__.ipynb",
   "parameters": {},
   "start_time": "2024-12-27T15:02:44.952053",
   "version": "2.6.0"
  }
 },
 "nbformat": 4,
 "nbformat_minor": 5
}
